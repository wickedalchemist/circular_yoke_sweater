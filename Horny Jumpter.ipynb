{
 "cells": [
  {
   "cell_type": "code",
   "execution_count": 16,
   "metadata": {},
   "outputs": [],
   "source": [
    "#import pandas as pd\n",
    "#import numpy as np\n",
    "import math"
   ]
  },
  {
   "cell_type": "code",
   "execution_count": 176,
   "metadata": {},
   "outputs": [],
   "source": [
    "# measurements [INCHES]\n",
    "bust = 45\n",
    "neck = 23.5\n",
    "cross_back = 15.75\n",
    "yoke_depth = 9\n",
    "upper_arm = 14\n",
    "body_ease = 2\n",
    "sleeve_ease = 1\n",
    "neck_ease = 0\n",
    "yoke_depth_ease = 0\n",
    "neck_edging = 1\n",
    "front_neck_drop = 1.5\n",
    "\n",
    "#derived measurements\n",
    "neckline_circ = (neck / math.pi / 2 + neck_edging) * math.pi * 2\n",
    "\n",
    "#design choices\n",
    "optional_raglan_shaping = False\n",
    "shortrow_start_neckline = True\n",
    "\n",
    "#gauge [PER INCH]\n",
    "st_gauge = 4.5\n",
    "rnd_gauge = 6"
   ]
  },
  {
   "cell_type": "code",
   "execution_count": 177,
   "metadata": {},
   "outputs": [],
   "source": [
    "def round_odd_even(num_to_round, even = True):\n",
    "    if num_to_round % 2 == 0:\n",
    "        num_to_round_is_even = True\n",
    "    else:\n",
    "        num_to_round_is_even = False\n",
    "\n",
    "    if num_to_round_is_even & even:\n",
    "        return num_to_round\n",
    "    if num_to_round_is_even & ~even:\n",
    "        return num_to_round + 1\n",
    "    if ~num_to_round_is_even & even:\n",
    "        return num_to_round +1\n",
    "    if ~num_to_round_is_even & ~even:\n",
    "        return num_to_round"
   ]
  },
  {
   "cell_type": "code",
   "execution_count": 178,
   "metadata": {},
   "outputs": [],
   "source": [
    "def closestNumber(n, m) :\n",
    "    #Closest number to n that is divisible by m\n",
    "    #https://www.geeksforgeeks.org/find-number-closest-n-divisible-m/\n",
    "    # Find the quotient \n",
    "    q = int(n / m) \n",
    "      \n",
    "    # 1st possible closest number \n",
    "    n1 = m * q \n",
    "      \n",
    "    # 2nd possible closest number \n",
    "    if((n * m) > 0) : \n",
    "        n2 = (m * (q + 1))  \n",
    "    else : \n",
    "        n2 = (m * (q - 1)) \n",
    "      \n",
    "    # if true, then n1 is the required closest number \n",
    "    if (abs(n - n1) < abs(n - n2)) : \n",
    "        return n1 \n",
    "      \n",
    "    # else n2 is the required closest number  \n",
    "    return n2 "
   ]
  },
  {
   "cell_type": "code",
   "execution_count": 179,
   "metadata": {},
   "outputs": [],
   "source": [
    "stitches = dict() #refers to measuremetns in Figure 4\n",
    "stitches['a_bust_sts'] = math.ceil((bust + body_ease) * st_gauge)\n",
    "stitches['c_bust_width_sts'] = stitches['a_bust_sts'] / 2\n",
    "stitches['b_sleeve_sts'] = math.ceil((upper_arm + sleeve_ease) * st_gauge)\n",
    "# if bust width is odd/even round to nearest odd/even number)\n",
    "stitches['cross_back_sts'] = round_odd_even(math.ceil(cross_back*st_gauge), even = (stitches['c_bust_width_sts'] % 2 == 0))\n",
    "stitches['d_underarm_span_sts'] = math.ceil((stitches['c_bust_width_sts'] - stitches['cross_back_sts']) / 2.)\n",
    "stitches['e_lower_yoke_circumference'] = stitches['a_bust_sts'] + (2 * stitches['b_sleeve_sts']) - (4 * stitches['d_underarm_span_sts'])\n",
    "#optional, round up or down to a number divisible by 8\n",
    "if optional_raglan_shaping: \n",
    "    stitches['f_raglan_shaping_sts'] = closestNumber(2 * stitches['d_underarm_span_sts'], 8)\n",
    "else:\n",
    "    stitches['f_raglan_shaping_sts'] = 0\n",
    "stitches['g_lower_frontback_width_sts'] = (stitches['a_bust_sts'] - (stitches['d_underarm_span_sts']*2)) / 2.\n",
    "stitches['h_lower_b_sleeve_sts'] = stitches['b_sleeve_sts'] - stitches['d_underarm_span_sts'] \n",
    "stitches['i_upper_frontback_width_sts'] = stitches['g_lower_frontback_width_sts'] - (stitches['f_raglan_shaping_sts'] / 4.)\n",
    "stitches['j_upper_b_sleeve_sts'] = stitches['h_lower_b_sleeve_sts'] - (stitches['f_raglan_shaping_sts'] / 4.)\n",
    "stitches['k_upper_total_sts'] = (2 * stitches['i_upper_frontback_width_sts']) + (2 * stitches['j_upper_b_sleeve_sts'])\n",
    "stitches['neck_sts'] = math.ceil((neck + neck_ease) * st_gauge)\n",
    "stitches['l_neckline_sts'] = math.ceil(neckline_circ * st_gauge)\n",
    "stitches['m_total_yoke_shaping_sts'] = stitches['e_lower_yoke_circumference'] - stitches['l_neckline_sts'] - stitches['f_raglan_shaping_sts']\n",
    "\n",
    "#short rows, should run the whole width of the back yoke and taper around the front\n",
    "#short row closest to neck should use half of the yoike sts in that round\n",
    "#lowest short row should leave about 1/4 to 1/6 of front stitches untouched\n",
    "# if intervals between short row turns is less than 2 sts consider splitting the shor rows into two groups\n",
    "stitches['num_short_rows'] = round_odd_even(front_neck_drop * row_gauge, even=True) #round to even number\n",
    "if shortrow_start_neckline:\n",
    "    shortrow_start_circ_sts = stitches['l_neckline_sts']\n",
    "else:\n",
    "    print(f'NEED TO DEFINE A CIRCUMFERENCE')\n",
    "    print(f'FOR NOW SETTING TO NECKLINE')\n",
    "    shortrow_start_circ_sts = stitches['l_neckline_sts']\n",
    "    \n",
    "stitches['back_yoke_sts'] = math.ceil(shortrow_start_circ_sts / 2)\n",
    "stitches['side_yoke_sts'] = math.ceil(shortrow_start_circ_sts / 6)\n",
    "stitches['num_shaping_int'] = stitches['num_short_rows'] / 2\n",
    "stitches['shaping_interval'] = stitches['side_yoke_sts'] / stitches['num_shaping_int']\n",
    "    "
   ]
  },
  {
   "cell_type": "code",
   "execution_count": 180,
   "metadata": {},
   "outputs": [],
   "source": [
    "rounds = dict() #refers to measurements in fig 5\n",
    "rounds['a_backyoke_rnds'] = (yoke_depth + yoke_depth_ease - neck_edging) * rnd_gauge\n",
    "rounds['b_num_shortrows'] = front_neck_drop * rnd_gauge\n",
    "rounds['c_frontyoke_rnds'] = rounds['a_backyoke_rnds'] - rounds['b_num_shortrows']\n",
    "if optional_raglan_shaping:\n",
    "    rounds['d_raglan_shaping_rnds'] = stitches['f_raglan_shaping_sts']/8 * 2\n",
    "else:\n",
    "    rounds['d_raglan_shaping_rnds'] = 0\n",
    "rounds['e_remaining_rnds'] = rounds['c_frontyoke_rnds'] - rounds['d_raglan_shaping_rnds']"
   ]
  },
  {
   "cell_type": "code",
   "execution_count": 181,
   "metadata": {},
   "outputs": [
    {
     "name": "stdout",
     "output_type": "stream",
     "text": [
      "STITCHES \n",
      "\n",
      "a_bust_sts: 212\n",
      "c_bust_width_sts: 106.0\n",
      "b_sleeve_sts: 68\n",
      "cross_back_sts: 72\n",
      "d_underarm_span_sts: 17\n",
      "e_lower_yoke_circumference: 280\n",
      "f_raglan_shaping_sts: 0\n",
      "g_lower_frontback_width_sts: 89.0\n",
      "h_lower_b_sleeve_sts: 51\n",
      "i_upper_frontback_width_sts: 89.0\n",
      "j_upper_b_sleeve_sts: 51.0\n",
      "k_upper_total_sts: 280.0\n",
      "neck_sts: 106\n",
      "l_neckline_sts: 135\n",
      "m_total_yoke_shaping_sts: 145\n",
      "num_short_rows: 10.0\n",
      "back_yoke_sts: 68\n",
      "side_yoke_sts: 23\n",
      "num_shaping_int: 5.0\n",
      "shaping_interval: 4.6\n",
      "\n",
      "YOKE SHAPING ROUNDS \n",
      "\n",
      "a_backyoke_rnds: 48\n",
      "b_num_shortrows: 9.0\n",
      "c_frontyoke_rnds: 39.0\n",
      "d_raglan_shaping_rnds: 0\n",
      "e_remaining_rnds: 39.0\n"
     ]
    }
   ],
   "source": [
    "print('STITCHES \\n')\n",
    "for key, value in stitches.items():\n",
    "    print(f'{key}: {value}')\n",
    "\n",
    "print('\\nYOKE SHAPING ROUNDS \\n')\n",
    "for key, value in rounds.items():\n",
    "    print(f'{key}: {value}')\n",
    "\n"
   ]
  },
  {
   "cell_type": "code",
   "execution_count": null,
   "metadata": {},
   "outputs": [],
   "source": []
  },
  {
   "cell_type": "code",
   "execution_count": null,
   "metadata": {},
   "outputs": [],
   "source": []
  },
  {
   "cell_type": "markdown",
   "metadata": {},
   "source": [
    "# Pattern (rough)"
   ]
  },
  {
   "cell_type": "code",
   "execution_count": 209,
   "metadata": {},
   "outputs": [
    {
     "name": "stdout",
     "output_type": "stream",
     "text": [
      "CO 135 w/ 4mm. \n",
      "Complete 1 inches in 1x1 ribbing\n",
      "*Start Short row shaping*. \n",
      "Row 1 (RS): Knit 34.0 sts. Place marker for JSR. Turn.\n",
      "Row 2 (WS): Purl back to BOR marker. Knit a further 34.0 sts. Place marker for JSR. Turn.\n",
      "Row 3 (RS): Knit to 4.6 beyond previous short row end, picking up and working JSR marker as you go.\n",
      "Row 4 (WS): Purl to 4.6 beyond previous short row end, picking up and working JSR marker as you go.\n",
      "Repeate Rows 3 & 4,  3 times more times, for a total of 5.0 turns on each side of BOR marker. \n",
      "After last turn, knit all the way around back to BOR marker. 135 sts on cable.\n"
     ]
    }
   ],
   "source": [
    "print(f\"CO {stitches['l_neckline_sts']} w/ 4mm. \\nComplete {neck_edging} inches in 1x1 ribbing\")\n",
    "print(f\"*Start Short row shaping*. \\nRow 1 (RS): Knit {stitches['back_yoke_sts']/2} sts. Place marker for JSR. Turn.\")\n",
    "print(f\"Row 2 (WS): Purl back to BOR marker. Knit a further {stitches['back_yoke_sts']/2} sts. Place marker for JSR. Turn.\")\n",
    "print(f\"Row 3 (RS): Knit to {stitches['shaping_interval']} beyond previous short row end, picking up and working JSR marker as you go.\")\n",
    "print(f\"Row 4 (WS): Purl to {stitches['shaping_interval']} beyond previous short row end, picking up and working JSR marker as you go.\")\n",
    "print(f\"Repeate Rows 3 & 4,  3 times more times, for a total of {stitches['num_shaping_int']} turns on each side of BOR marker. \")\n",
    "print(f\"After last turn, knit all the way around back to BOR marker. {stitches['l_neckline_sts']} sts on cable.\")"
   ]
  },
  {
   "cell_type": "code",
   "execution_count": null,
   "metadata": {},
   "outputs": [],
   "source": []
  }
 ],
 "metadata": {
  "kernelspec": {
   "display_name": "Python 3",
   "language": "python",
   "name": "python3"
  },
  "language_info": {
   "codemirror_mode": {
    "name": "ipython",
    "version": 3
   },
   "file_extension": ".py",
   "mimetype": "text/x-python",
   "name": "python",
   "nbconvert_exporter": "python",
   "pygments_lexer": "ipython3",
   "version": "3.8.6"
  }
 },
 "nbformat": 4,
 "nbformat_minor": 4
}
